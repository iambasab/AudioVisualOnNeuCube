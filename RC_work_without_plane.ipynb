{
 "cells": [
  {
   "cell_type": "code",
   "execution_count": null,
   "metadata": {},
   "outputs": [],
   "source": [
    "# !pip3 install opencv-python\n",
    "# !pip3 install tensorflow"
   ]
  },
  {
   "cell_type": "code",
   "execution_count": null,
   "metadata": {
    "id": "kP2btRnfYM4d"
   },
   "outputs": [],
   "source": [
    "import matplotlib.pyplot as plt\n",
    "import numpy as np\n",
    "import pandas as pd\n",
    "import sklearn\n",
    "\n",
    "import tensorflow as tf\n",
    "from tensorflow.keras import datasets, layers, models\n",
    "import pandas as pd\n",
    "import numpy as np\n",
    "import matplotlib.pyplot as plt\n",
    "from tensorflow import keras"
   ]
  },
  {
   "cell_type": "code",
   "execution_count": null,
   "metadata": {
    "colab": {
     "base_uri": "https://localhost:8080/"
    },
    "id": "mFJ52xixWQ2s",
    "outputId": "3f2ab8e5-133e-4a31-e174-91f7f70be629"
   },
   "outputs": [],
   "source": [
    "import glob\n",
    "import cv2\n",
    "import numpy as np\n",
    "import pandas as pd\n",
    "IMG_DIR='../Plane/Frame without plane'\n",
    "\n",
    "def read_images(directory): \n",
    "    for img in glob.glob(directory+\"/*.png\"):\n",
    "        # image = cv2.imread(img)     #for normal rgb image \n",
    "        image = cv2.imread(img,0)   #DP tring to convert directly to grayscale\n",
    "\n",
    "\n",
    "        yield image\n",
    "\n",
    "\n",
    "img_list = np.array(list(read_images(IMG_DIR)))\n",
    "print(img_list.shape)\n"
   ]
  },
  {
   "cell_type": "code",
   "execution_count": null,
   "metadata": {
    "colab": {
     "base_uri": "https://localhost:8080/",
     "height": 287
    },
    "id": "NG38awcIYM6i",
    "outputId": "564457ad-269b-48f4-f8d6-d7347e702214"
   },
   "outputs": [],
   "source": [
    "plt.imshow(img_list[13])"
   ]
  },
  {
   "cell_type": "code",
   "execution_count": null,
   "metadata": {
    "id": "BWMcYerXf1Q3"
   },
   "outputs": [],
   "source": [
    "vect = []\n",
    "for i in range(60):\n",
    "  i1=0\n",
    "  j1 =0\n",
    "  while(i1<1080):\n",
    "    while(j1<1080):\n",
    "      p1 = i1\n",
    "      p2 = j1\n",
    "      summ = 0.0\n",
    "      for x in range(p1,p1+67):\n",
    "        for y in range(p2,p2+67):\n",
    "          summ+= img_list[i][p1][p2]\n",
    "      vect.append(summ)\n",
    "      j1+=68\n",
    "    i1+=68\n",
    "\n",
    "\n"
   ]
  },
  {
   "cell_type": "code",
   "execution_count": null,
   "metadata": {
    "colab": {
     "base_uri": "https://localhost:8080/"
    },
    "id": "aTQ7gwB_lvwR",
    "outputId": "26ef91a8-1a63-4b5b-c4d4-6c8141cae07a"
   },
   "outputs": [],
   "source": [
    "arr = np.array(vect)\n",
    "print(arr.shape)"
   ]
  },
  {
   "cell_type": "code",
   "execution_count": null,
   "metadata": {
    "id": "mC5OsSael1wu"
   },
   "outputs": [],
   "source": [
    "arr_fin  = arr.reshape(60,16)"
   ]
  },
  {
   "cell_type": "code",
   "execution_count": null,
   "metadata": {
    "colab": {
     "base_uri": "https://localhost:8080/"
    },
    "id": "h5qBbkUYm-aZ",
    "outputId": "b85d78d1-3024-4058-f0c5-38ad75f4872b"
   },
   "outputs": [],
   "source": [
    "print(arr.shape, arr_fin.shape)\n"
   ]
  },
  {
   "cell_type": "code",
   "execution_count": null,
   "metadata": {
    "id": "NGCbriJNm_qr"
   },
   "outputs": [],
   "source": [
    "DF = pd.DataFrame(arr_fin)"
   ]
  },
  {
   "cell_type": "code",
   "execution_count": null,
   "metadata": {
    "colab": {
     "base_uri": "https://localhost:8080/",
     "height": 270
    },
    "id": "pd-R6fMsnkKv",
    "outputId": "a761bf04-58ff-4cdb-873a-5b2074f56649"
   },
   "outputs": [],
   "source": [
    "DF.head()"
   ]
  },
  {
   "cell_type": "code",
   "execution_count": null,
   "metadata": {
    "id": "4hwkp5con244"
   },
   "outputs": [],
   "source": [
    "DF.to_csv(\"../Plane/CSVFiles/without_plane.csv\")"
   ]
  },
  {
   "cell_type": "code",
   "execution_count": null,
   "metadata": {
    "id": "XBFFjJdpn8CZ"
   },
   "outputs": [],
   "source": []
  }
 ],
 "metadata": {
  "colab": {
   "provenance": []
  },
  "kernelspec": {
   "display_name": "Python 3 (ipykernel)",
   "language": "python",
   "name": "python3"
  },
  "language_info": {
   "codemirror_mode": {
    "name": "ipython",
    "version": 3
   },
   "file_extension": ".py",
   "mimetype": "text/x-python",
   "name": "python",
   "nbconvert_exporter": "python",
   "pygments_lexer": "ipython3",
   "version": "3.13.5"
  }
 },
 "nbformat": 4,
 "nbformat_minor": 4
}
