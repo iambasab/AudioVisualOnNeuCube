{
 "cells": [
  {
   "cell_type": "code",
   "execution_count": null,
   "metadata": {
    "executionInfo": {
     "elapsed": 3485,
     "status": "ok",
     "timestamp": 1677832299974,
     "user": {
      "displayName": "Patel Dharmik Rohitkumar",
      "userId": "17531213186771431812"
     },
     "user_tz": -330
    },
    "id": "kP2btRnfYM4d"
   },
   "outputs": [],
   "source": [
    "import matplotlib.pyplot as plt\n",
    "import numpy as np\n",
    "import pandas as pd\n",
    "import sklearn\n",
    "\n",
    "import tensorflow as tf\n",
    "from tensorflow.keras import datasets, layers, models\n",
    "import pandas as pd\n",
    "import numpy as np\n",
    "import matplotlib.pyplot as plt\n",
    "from tensorflow import keras"
   ]
  },
  {
   "cell_type": "code",
   "execution_count": null,
   "metadata": {
    "colab": {
     "base_uri": "https://localhost:8080/"
    },
    "executionInfo": {
     "elapsed": 15139,
     "status": "ok",
     "timestamp": 1677832338155,
     "user": {
      "displayName": "Patel Dharmik Rohitkumar",
      "userId": "17531213186771431812"
     },
     "user_tz": -330
    },
    "id": "mFJ52xixWQ2s",
    "outputId": "c9d41149-e1a6-4271-ac32-e35edeffbb0e"
   },
   "outputs": [],
   "source": [
    "import glob\n",
    "import cv2\n",
    "import numpy as np\n",
    "import pandas as pd\n",
    "IMG_DIR='../VIDEO_2/images_with_train'\n",
    "def read_images(directory): \n",
    "    for img in glob.glob(directory+\"/*.png\"):\n",
    "        # image = cv2.imread(img)     #for normal rgb image \n",
    "        image = cv2.imread(img,0)   #DP trying to convert directly to grayscale\n",
    "        yield image\n",
    "\n",
    "\n",
    "img_list = np.array(list(read_images(IMG_DIR)))\n",
    "print(img_list.shape)"
   ]
  },
  {
   "cell_type": "code",
   "execution_count": null,
   "metadata": {
    "colab": {
     "base_uri": "https://localhost:8080/",
     "height": 258
    },
    "executionInfo": {
     "elapsed": 13,
     "status": "ok",
     "timestamp": 1677832338155,
     "user": {
      "displayName": "Patel Dharmik Rohitkumar",
      "userId": "17531213186771431812"
     },
     "user_tz": -330
    },
    "id": "NG38awcIYM6i",
    "outputId": "e64af7d5-c851-4ec5-83ae-7c48fe724304"
   },
   "outputs": [],
   "source": [
    "plt.imshow(img_list[13])"
   ]
  },
  {
   "cell_type": "code",
   "execution_count": null,
   "metadata": {
    "colab": {
     "base_uri": "https://localhost:8080/"
    },
    "executionInfo": {
     "elapsed": 6,
     "status": "ok",
     "timestamp": 1677832529533,
     "user": {
      "displayName": "Patel Dharmik Rohitkumar",
      "userId": "17531213186771431812"
     },
     "user_tz": -330
    },
    "id": "d__BbuMX40XY",
    "outputId": "12ff9f6c-41c4-493c-dfb2-bc3516cbd4d6"
   },
   "outputs": [],
   "source": [
    "from keras.utils.dataset_utils import split_dataset\n",
    "import math\n",
    "no_of_features = 16  # 16\n",
    "max_row = img_list.shape[1]\n",
    "max_col = img_list.shape[2]\n",
    "\n",
    "sqrt_num_feature = int(1)\n",
    "sqrt_num_feature = math.isqrt(no_of_features) # 16 -> 4\n",
    "row_split = int(max_row/sqrt_num_feature)\n",
    "col_split = int(max_col/sqrt_num_feature)\n",
    "print(row_split,col_split, sqrt_num_feature)\n",
    "print(max_col,max_row)"
   ]
  },
  {
   "cell_type": "code",
   "execution_count": null,
   "metadata": {
    "colab": {
     "base_uri": "https://localhost:8080/"
    },
    "executionInfo": {
     "elapsed": 159472,
     "status": "ok",
     "timestamp": 1677832934657,
     "user": {
      "displayName": "Patel Dharmik Rohitkumar",
      "userId": "17531213186771431812"
     },
     "user_tz": -330
    },
    "id": "M3pQWz2S6xpz",
    "outputId": "f1fa4365-aa3e-4f87-8a3e-3e3bf092007f"
   },
   "outputs": [],
   "source": [
    "\n",
    "vect = []\n",
    "for i in range(img_list.shape[0]):\n",
    "  i1=0\n",
    "  j1 =0\n",
    "  while(i1<=max_row-row_split):\n",
    "    while(j1<=max_col-col_split):\n",
    "      # print(i1,j1)\n",
    "      p1 = i1\n",
    "      p2 = j1\n",
    "      summ = 0.0\n",
    "      for x in range(p1,p1+row_split):\n",
    "        for y in range(p2,p2+col_split):\n",
    "          summ+= img_list[i][p1][p2]\n",
    "      vect.append(summ)\n",
    "      j1+=col_split\n",
    "    j1 = 0\n",
    "    i1+=row_split\n",
    "  print(i)\n"
   ]
  },
  {
   "cell_type": "code",
   "execution_count": null,
   "metadata": {
    "colab": {
     "base_uri": "https://localhost:8080/"
    },
    "executionInfo": {
     "elapsed": 536,
     "status": "ok",
     "timestamp": 1677832946675,
     "user": {
      "displayName": "Patel Dharmik Rohitkumar",
      "userId": "17531213186771431812"
     },
     "user_tz": -330
    },
    "id": "aTQ7gwB_lvwR",
    "outputId": "fbf95a6c-c6e9-410f-fa0b-2b936d324b86"
   },
   "outputs": [],
   "source": [
    "arr = np.array(vect)\n",
    "print(arr.shape)"
   ]
  },
  {
   "cell_type": "code",
   "execution_count": null,
   "metadata": {
    "executionInfo": {
     "elapsed": 529,
     "status": "ok",
     "timestamp": 1677832971919,
     "user": {
      "displayName": "Patel Dharmik Rohitkumar",
      "userId": "17531213186771431812"
     },
     "user_tz": -330
    },
    "id": "mC5OsSael1wu"
   },
   "outputs": [],
   "source": [
    "arr_fin  = arr.reshape(img_list.shape[0], no_of_features)"
   ]
  },
  {
   "cell_type": "code",
   "execution_count": null,
   "metadata": {
    "colab": {
     "base_uri": "https://localhost:8080/"
    },
    "executionInfo": {
     "elapsed": 3,
     "status": "ok",
     "timestamp": 1677832976084,
     "user": {
      "displayName": "Patel Dharmik Rohitkumar",
      "userId": "17531213186771431812"
     },
     "user_tz": -330
    },
    "id": "h5qBbkUYm-aZ",
    "outputId": "447addf2-8a1f-432a-a77c-5b884164b0d5"
   },
   "outputs": [],
   "source": [
    "print(arr.shape, arr_fin.shape)\n"
   ]
  },
  {
   "cell_type": "code",
   "execution_count": null,
   "metadata": {
    "executionInfo": {
     "elapsed": 402,
     "status": "ok",
     "timestamp": 1677832980734,
     "user": {
      "displayName": "Patel Dharmik Rohitkumar",
      "userId": "17531213186771431812"
     },
     "user_tz": -330
    },
    "id": "NGCbriJNm_qr"
   },
   "outputs": [],
   "source": [
    "DF = pd.DataFrame(arr_fin)"
   ]
  },
  {
   "cell_type": "code",
   "execution_count": null,
   "metadata": {
    "colab": {
     "base_uri": "https://localhost:8080/",
     "height": 270
    },
    "executionInfo": {
     "elapsed": 426,
     "status": "ok",
     "timestamp": 1677832984735,
     "user": {
      "displayName": "Patel Dharmik Rohitkumar",
      "userId": "17531213186771431812"
     },
     "user_tz": -330
    },
    "id": "pd-R6fMsnkKv",
    "outputId": "6e6868a5-a2ad-435e-99c8-62e5f59eed65"
   },
   "outputs": [],
   "source": [
    "DF.head()"
   ]
  },
  {
   "cell_type": "code",
   "execution_count": null,
   "metadata": {
    "executionInfo": {
     "elapsed": 508,
     "status": "ok",
     "timestamp": 1677832999361,
     "user": {
      "displayName": "Patel Dharmik Rohitkumar",
      "userId": "17531213186771431812"
     },
     "user_tz": -330
    },
    "id": "4hwkp5con244"
   },
   "outputs": [],
   "source": [
    "DF.to_csv(\"../VIDEO_2/with_train.csv\")"
   ]
  },
  {
   "cell_type": "code",
   "execution_count": null,
   "metadata": {
    "id": "XBFFjJdpn8CZ"
   },
   "outputs": [],
   "source": []
  }
 ],
 "metadata": {
  "colab": {
   "provenance": []
  },
  "kernelspec": {
   "display_name": "Python 3 (ipykernel)",
   "language": "python",
   "name": "python3"
  },
  "language_info": {
   "codemirror_mode": {
    "name": "ipython",
    "version": 3
   },
   "file_extension": ".py",
   "mimetype": "text/x-python",
   "name": "python",
   "nbconvert_exporter": "python",
   "pygments_lexer": "ipython3",
   "version": "3.13.5"
  }
 },
 "nbformat": 4,
 "nbformat_minor": 4
}
