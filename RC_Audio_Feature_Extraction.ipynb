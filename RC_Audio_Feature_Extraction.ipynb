{
 "cells": [
  {
   "cell_type": "code",
   "execution_count": null,
   "metadata": {
    "id": "MIQ6M9BQYTmr"
   },
   "outputs": [],
   "source": [
    "import librosa\n",
    "from librosa import display\n",
    "from IPython.display import Audio\n",
    "import matplotlib.pyplot as plt\n",
    "import scipy\n",
    "import numpy as np\n",
    "import math\n",
    "import pandas as pd"
   ]
  },
  {
   "cell_type": "code",
   "execution_count": null,
   "metadata": {
    "colab": {
     "base_uri": "https://localhost:8080/"
    },
    "executionInfo": {
     "elapsed": 2004,
     "status": "ok",
     "timestamp": 1669619314248,
     "user": {
      "displayName": "Tarang Agarwal",
      "userId": "04526590910953041131"
     },
     "user_tz": -330
    },
    "id": "HAHoBCj2a6Am",
    "outputId": "af497e80-5ddb-42c2-eb66-1efcf9f56f45"
   },
   "outputs": [],
   "source": [
    "audio_with_plane, sampling_rate_with_plane = librosa.load(\"../sample_audio_with_plane.mp3\")\n",
    "\n",
    "len(audio_with_plane), sampling_rate_with_plane, len(audio_with_plane)/sampling_rate_with_plane"
   ]
  },
  {
   "cell_type": "code",
   "execution_count": null,
   "metadata": {
    "colab": {
     "base_uri": "https://localhost:8080/"
    },
    "executionInfo": {
     "elapsed": 452,
     "status": "ok",
     "timestamp": 1669619314696,
     "user": {
      "displayName": "Tarang Agarwal",
      "userId": "04526590910953041131"
     },
     "user_tz": -330
    },
    "id": "vO1DIMsAWnEi",
    "outputId": "68a82519-2842-496e-b28c-ecde2b8adb90"
   },
   "outputs": [],
   "source": [
    "audio_without_plane, sampling_rate_without_plane = librosa.load(\"../sample_audio_without_plane.mp3\")\n",
    "\n",
    "len(audio_without_plane), sampling_rate_without_plane, len(audio_without_plane)/sampling_rate_without_plane"
   ]
  },
  {
   "cell_type": "code",
   "execution_count": null,
   "metadata": {
    "id": "dwyB5mmCB-NL"
   },
   "outputs": [],
   "source": [
    "max_freq = 0\n",
    "min_freq = 10000\n",
    "\n",
    "n = len(audio_with_plane)\n",
    "T = 1/sampling_rate_with_plane\n",
    "xf = np.linspace(0.0, 1.0/(2.0*T), n//2)\n",
    "\n",
    "max_freq = max(max_freq, max(list(xf)))\n",
    "min_freq = min(min_freq, min(list(xf)))\n",
    "\n",
    "n = len(audio_without_plane)\n",
    "T = 1/sampling_rate_without_plane\n",
    "xf = np.linspace(0.0, 1.0/(2.0*T), n//2)\n",
    "\n",
    "max_freq = max(max_freq, max(list(xf)))\n",
    "min_freq = min(min_freq, min(list(xf)))\n"
   ]
  },
  {
   "cell_type": "code",
   "execution_count": null,
   "metadata": {
    "id": "v1oi-mNtezUi"
   },
   "outputs": [],
   "source": [
    "def fft_plot(audio, sampling_rate):\n",
    "  n = len(audio)\n",
    "  T = 1/sampling_rate\n",
    "  yf = scipy.fft.fft(audio)\n",
    "  xf = np.linspace(0.0, 1.0/(2.0*T), n//2)\n",
    "  fig, ax = plt.subplots()\n",
    "  ax.plot(xf, 2.0/n * np.abs(yf[:n//2]))\n",
    "  plt.grid()\n",
    "  plt.xlabel(\"Frequency -->\")\n",
    "  plt.ylabel(\"Magnitude -->\")\n",
    "  return plt.show()"
   ]
  },
  {
   "cell_type": "code",
   "execution_count": null,
   "metadata": {
    "colab": {
     "base_uri": "https://localhost:8080/",
     "height": 279
    },
    "executionInfo": {
     "elapsed": 1464,
     "status": "ok",
     "timestamp": 1669619316158,
     "user": {
      "displayName": "Tarang Agarwal",
      "userId": "04526590910953041131"
     },
     "user_tz": -330
    },
    "id": "s-N0ef2HE0az",
    "outputId": "da5faa65-0981-48b5-98da-b4c3aba9a625"
   },
   "outputs": [],
   "source": [
    "fft_plot(audio_with_plane, sampling_rate_with_plane)"
   ]
  },
  {
   "cell_type": "code",
   "execution_count": null,
   "metadata": {
    "colab": {
     "base_uri": "https://localhost:8080/",
     "height": 279
    },
    "executionInfo": {
     "elapsed": 41,
     "status": "ok",
     "timestamp": 1669619316159,
     "user": {
      "displayName": "Tarang Agarwal",
      "userId": "04526590910953041131"
     },
     "user_tz": -330
    },
    "id": "cayqBtqMGqEY",
    "outputId": "5ab3d922-1a72-4cc8-9b74-5b1e8fabc35b"
   },
   "outputs": [],
   "source": [
    "fft_plot(audio_without_plane, sampling_rate_without_plane)"
   ]
  },
  {
   "cell_type": "code",
   "execution_count": null,
   "metadata": {
    "id": "1uIXV4nmJVVy"
   },
   "outputs": [],
   "source": [
    "def features_12(audio, sampling_rate):\n",
    "  n = len(audio)\n",
    "  T = 1/sampling_rate\n",
    "  yf = scipy.fft.fft(audio)\n",
    "  xf = list(np.linspace(0.0, 1.0/(2.0*T), n//2))\n",
    "  yf = list(2.0/n * np.abs(yf[:n//2]))\n",
    "\n",
    "  zipped_pairs = zip(yf, xf)\n",
    "  sorted_zp = sorted(zipped_pairs)\n",
    "  frequencies = [x for _, x in sorted_zp]\n",
    "  magnitudes = [y for y, _ in sorted_zp]\n",
    "\n",
    "  # max_freq = max(frequencies)\n",
    "  # min_freq = min(frequencies)\n",
    "  sum_features = [0 for i in range(12)]\n",
    "  cnt_features = [0 for i in range(12)]\n",
    "\n",
    "  for i in range(len(frequencies)):\n",
    "    index = min(int(12*((frequencies[i]-min_freq)/math.ceil(max_freq-min_freq))), 11)\n",
    "    cnt_features[index] += 1\n",
    "    sum_features[index] += magnitudes[i]\n",
    "\n",
    "  features = [0]*12\n",
    "  for i in range(12):\n",
    "    features[i] = sum_features[i]/max(1, cnt_features[i])\n",
    "\n",
    "  return features"
   ]
  },
  {
   "cell_type": "code",
   "execution_count": null,
   "metadata": {
    "colab": {
     "base_uri": "https://localhost:8080/"
    },
    "executionInfo": {
     "elapsed": 22308,
     "status": "ok",
     "timestamp": 1669619338429,
     "user": {
      "displayName": "Tarang Agarwal",
      "userId": "04526590910953041131"
     },
     "user_tz": -330
    },
    "id": "ctaZazeDKBUU",
    "outputId": "1a18f091-a0e1-417c-da6a-05ff5ed668dd"
   },
   "outputs": [],
   "source": [
    "features_with_plane = []\n",
    "features_without_plane = []\n",
    "\n",
    "for i in range(60):\n",
    "  audio, sr = librosa.load(\"../Plane/Audio Intervals with plane/audio_interval_with_plane_\" + str(i+1) + \".mp3\")\n",
    "  features_with_plane.append(features_12(audio, sr))\n",
    "\n",
    "  audio, sr = librosa.load(\"../Plane/Audio Intervals without plane/audio_interval_without_plane_\" + str(i+1) + \".mp3\")\n",
    "  features_without_plane.append(features_12(audio, sr))"
   ]
  },
  {
   "cell_type": "code",
   "execution_count": null,
   "metadata": {
    "colab": {
     "base_uri": "https://localhost:8080/",
     "height": 206
    },
    "executionInfo": {
     "elapsed": 34,
     "status": "ok",
     "timestamp": 1669619338430,
     "user": {
      "displayName": "Tarang Agarwal",
      "userId": "04526590910953041131"
     },
     "user_tz": -330
    },
    "id": "eSTnKRvhRsIr",
    "outputId": "35f51fbb-a2fb-4a85-898a-b6fe8e72763d"
   },
   "outputs": [],
   "source": [
    "df_with_plane = pd.DataFrame(np.array(features_with_plane))\n",
    "df_with_plane.head()"
   ]
  },
  {
   "cell_type": "code",
   "execution_count": null,
   "metadata": {
    "colab": {
     "base_uri": "https://localhost:8080/",
     "height": 206
    },
    "executionInfo": {
     "elapsed": 29,
     "status": "ok",
     "timestamp": 1669619338430,
     "user": {
      "displayName": "Tarang Agarwal",
      "userId": "04526590910953041131"
     },
     "user_tz": -330
    },
    "id": "xR1Y15noShRB",
    "outputId": "559ba9ee-ed3a-4fa6-dca3-35f238c47b4e"
   },
   "outputs": [],
   "source": [
    "df_without_plane = pd.DataFrame(np.array(features_without_plane))\n",
    "df_without_plane.head()"
   ]
  },
  {
   "cell_type": "code",
   "execution_count": null,
   "metadata": {
    "id": "eOI18VL_SqhE"
   },
   "outputs": [],
   "source": [
    "df_with_plane.to_csv(\"../Plane/CSV/audio_with_plane.csv\")\n",
    "df_without_plane.to_csv(\"../Plane/CSV/audio_without_plane.csv\")"
   ]
  }
 ],
 "metadata": {
  "colab": {
   "provenance": []
  },
  "kernelspec": {
   "display_name": "Python 3 (ipykernel)",
   "language": "python",
   "name": "python3"
  },
  "language_info": {
   "codemirror_mode": {
    "name": "ipython",
    "version": 3
   },
   "file_extension": ".py",
   "mimetype": "text/x-python",
   "name": "python",
   "nbconvert_exporter": "python",
   "pygments_lexer": "ipython3",
   "version": "3.13.5"
  }
 },
 "nbformat": 4,
 "nbformat_minor": 4
}
