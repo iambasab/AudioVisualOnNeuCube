{
 "cells": [
  {
   "cell_type": "code",
   "execution_count": null,
   "metadata": {
    "colab": {
     "base_uri": "https://localhost:8080/"
    },
    "executionInfo": {
     "elapsed": 8287,
     "status": "ok",
     "timestamp": 1669615839591,
     "user": {
      "displayName": "Tarang Agarwal",
      "userId": "04526590910953041131"
     },
     "user_tz": -330
    },
    "id": "LOL04MkVWpRF",
    "outputId": "1e7acbe3-e0b2-454c-8722-3fc3b93838bf"
   },
   "outputs": [],
   "source": [
    "# !pip install pydub"
   ]
  },
  {
   "cell_type": "code",
   "execution_count": null,
   "metadata": {
    "id": "MIQ6M9BQYTmr"
   },
   "outputs": [],
   "source": [
    "from IPython.display import Audio\n",
    "from pydub import AudioSegment"
   ]
  },
  {
   "cell_type": "code",
   "execution_count": null,
   "metadata": {
    "colab": {
     "base_uri": "https://localhost:8080/",
     "height": 76
    },
    "executionInfo": {
     "elapsed": 3178,
     "status": "ok",
     "timestamp": 1669615877506,
     "user": {
      "displayName": "Tarang Agarwal",
      "userId": "04526590910953041131"
     },
     "user_tz": -330
    },
    "id": "yWzafcH7VfJ_",
    "outputId": "63a81d89-c1ec-48b6-ae91-bf94212dac7d"
   },
   "outputs": [],
   "source": [
    "# Code to play the whole 1-minute audio\n",
    "Audio(\"../Sample_audio_used.mp3\")"
   ]
  },
  {
   "cell_type": "code",
   "execution_count": null,
   "metadata": {
    "colab": {
     "base_uri": "https://localhost:8080/"
    },
    "executionInfo": {
     "elapsed": 2319,
     "status": "ok",
     "timestamp": 1669615879781,
     "user": {
      "displayName": "Tarang Agarwal",
      "userId": "04526590910953041131"
     },
     "user_tz": -330
    },
    "id": "xh8EWjckbhvJ",
    "outputId": "bdb085eb-b3f0-4cd6-c578-d5c530dcfecf"
   },
   "outputs": [],
   "source": [
    "full_audio = AudioSegment.from_mp3(\"../Sample_audio_used.mp3\")\n",
    "\n",
    "startSec = 0\n",
    "endSec = 15\n",
    "startTime = startSec*1000\n",
    "endTime = endSec*1000\n",
    "audio_with_plane = full_audio[startTime:endTime]\n",
    "\n",
    "startSec = 18\n",
    "endSec = 33\n",
    "startTime = startSec*1000\n",
    "endTime = endSec*1000\n",
    "audio_without_plane = full_audio[startTime:endTime]\n",
    "\n",
    "audio_with_plane.export(\"../sample_audio_with_plane.mp3\", format=\"mp3\")\n",
    "audio_without_plane.export(\"../sample_audio_without_plane.mp3\", format=\"mp3\")"
   ]
  },
  {
   "cell_type": "code",
   "execution_count": null,
   "metadata": {
    "id": "sHDOJCl7ey6Y"
   },
   "outputs": [],
   "source": [
    "# Code to extract sixty 0.25s audio intervals from the 15-second audio files\n",
    "\n",
    "audio_with_plane = AudioSegment.from_mp3(\"../sample_audio_with_plane.mp3\")\n",
    "audio_without_plane = AudioSegment.from_mp3(\"../sample_audio_without_plane.mp3\")\n",
    "\n",
    "startTime = 0\n",
    "endTime = 250\n",
    "\n",
    "for i in range(60):\n",
    "  audio_interval_wp = audio_with_plane[startTime:endTime]\n",
    "  audio_interval_wp.export(\"../Plane/Audio Intervals with plane/audio_interval_with_plane_\" + str(i+1) + \".mp3\", format=\"mp3\")\n",
    "\n",
    "  audio_interval_wop = audio_without_plane[startTime:endTime]\n",
    "  audio_interval_wop.export(\"../Plane/Audio Intervals without plane/audio_interval_without_plane_\" + str(i+1) + \".mp3\", format=\"mp3\")\n",
    "\n",
    "  startTime += 250\n",
    "  endTime += 250"
   ]
  }
 ],
 "metadata": {
  "colab": {
   "provenance": [
    {
     "file_id": "1Nj9CdTFSyKi9q7wFf75eJfFUEQP6B8PH",
     "timestamp": 1669615586456
    }
   ]
  },
  "kernelspec": {
   "display_name": "Python 3 (ipykernel)",
   "language": "python",
   "name": "python3"
  },
  "language_info": {
   "codemirror_mode": {
    "name": "ipython",
    "version": 3
   },
   "file_extension": ".py",
   "mimetype": "text/x-python",
   "name": "python",
   "nbconvert_exporter": "python",
   "pygments_lexer": "ipython3",
   "version": "3.13.5"
  }
 },
 "nbformat": 4,
 "nbformat_minor": 4
}
